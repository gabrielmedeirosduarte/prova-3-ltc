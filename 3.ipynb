{
 "cells": [
  {
   "cell_type": "markdown",
   "metadata": {},
   "source": [
    "### <h3> Prova 3 de LTC - Questão 3"
   ]
  },
  {
   "cell_type": "code",
   "execution_count": 68,
   "metadata": {},
   "outputs": [],
   "source": [
    "import numpy as np\n",
    "import sympy as sp\n",
    "import control as ct\n",
    "import matplotlib.pyplot as plt"
   ]
  },
  {
   "cell_type": "markdown",
   "metadata": {},
   "source": [
    "##### <h5> A metodologia para o projeto é apresentado a seguir"
   ]
  },
  {
   "cell_type": "markdown",
   "metadata": {},
   "source": [
    "##### <h5> Sistema"
   ]
  },
  {
   "cell_type": "code",
   "execution_count": 69,
   "metadata": {},
   "outputs": [
    {
     "data": {
      "text/latex": [
       "$$\\frac{15.25}{10 s + 1}$$"
      ],
      "text/plain": [
       "TransferFunction(array([15.25]), array([10,  1]))"
      ]
     },
     "execution_count": 69,
     "metadata": {},
     "output_type": "execute_result"
    }
   ],
   "source": [
    "s = ct.tf('s')\n",
    "num_G = [15.25]\n",
    "den_G = [10, 1]\n",
    "G = ct.tf(num_G, den_G)\n",
    "n = len(den_G)-1\n",
    "G"
   ]
  },
  {
   "cell_type": "markdown",
   "metadata": {},
   "source": [
    "##### <h5> Polos e zeros da malha aberta"
   ]
  },
  {
   "cell_type": "code",
   "execution_count": 70,
   "metadata": {},
   "outputs": [
    {
     "name": "stdout",
     "output_type": "stream",
     "text": [
      "Polos:  [-0.1+0.j]\n",
      "Zeros:  []\n"
     ]
    }
   ],
   "source": [
    "print(\"Polos: \", ct.poles(G))\n",
    "print(\"Zeros: \", ct.zeros(G))"
   ]
  },
  {
   "cell_type": "markdown",
   "metadata": {},
   "source": [
    "##### <h5> Especificações de projeto"
   ]
  },
  {
   "cell_type": "code",
   "execution_count": 71,
   "metadata": {},
   "outputs": [],
   "source": [
    "ts = 10\n",
    "tau = ts/4"
   ]
  },
  {
   "cell_type": "markdown",
   "metadata": {},
   "source": [
    "##### <h5> Polos de malha fechada desejados"
   ]
  },
  {
   "cell_type": "code",
   "execution_count": 72,
   "metadata": {},
   "outputs": [
    {
     "name": "stdout",
     "output_type": "stream",
     "text": [
      "-0.4\n",
      "-4\n"
     ]
    }
   ],
   "source": [
    "p1 = -1/tau\n",
    "p2 = -4\n",
    "p = [p1, p2]\n",
    "\n",
    "for i in range(len(p)):\n",
    "    print(p[i])"
   ]
  },
  {
   "cell_type": "markdown",
   "metadata": {},
   "source": [
    "##### <h5> Passagem da função de transferência de malha aberta para espaço de estados"
   ]
  },
  {
   "cell_type": "code",
   "execution_count": 73,
   "metadata": {},
   "outputs": [
    {
     "name": "stdout",
     "output_type": "stream",
     "text": [
      "A: \n",
      "[[-1.]]\n",
      "B: \n",
      "[[1.]]\n",
      "C: \n",
      "[[15.25]]\n",
      "D: \n",
      "[[0]]\n"
     ]
    }
   ],
   "source": [
    "ultima_linha = np.zeros((1, n))\n",
    "aux = (den_G[::-1])[:-1]\n",
    "\n",
    "for i in range(len(aux)):\n",
    "    ultima_linha[0][i] = -aux[i]\n",
    "\n",
    "A = np.block([[np.zeros((n-1, 1)), np.eye(n-1)],\n",
    "              [ultima_linha]])\n",
    "\n",
    "B = np.block([[np.zeros((n-1, 1))],\n",
    "              [1]])\n",
    "\n",
    "C = np.zeros((1, n))\n",
    "for i in range(len(aux)):\n",
    "    C[0][i] = num_G[::-1][i]\n",
    "\n",
    "D = np.block([[0]])\n",
    "\n",
    "print(\"A: \")\n",
    "print(A)\n",
    "print(\"B: \")\n",
    "print(B)\n",
    "print(\"C: \")\n",
    "print(C)\n",
    "print(\"D: \")\n",
    "print(D)"
   ]
  },
  {
   "cell_type": "markdown",
   "metadata": {},
   "source": [
    "##### <h5> Criação do Espaço de Estado aumentado"
   ]
  },
  {
   "cell_type": "code",
   "execution_count": 74,
   "metadata": {},
   "outputs": [
    {
     "name": "stdout",
     "output_type": "stream",
     "text": [
      "Aa:\n",
      "[[ -1.     0.  ]\n",
      " [-15.25   0.  ]]\n",
      "Ba:\n",
      "[[1.]\n",
      " [0.]]\n"
     ]
    }
   ],
   "source": [
    "Aa = np.block([[A, np.zeros((n,1))],\n",
    "               [-C, 0]])\n",
    "\n",
    "Ba = np.block([[B],\n",
    "               [0]])\n",
    "\n",
    "print(\"Aa:\")\n",
    "print(Aa)\n",
    "print(\"Ba:\")\n",
    "print(Ba)"
   ]
  },
  {
   "cell_type": "markdown",
   "metadata": {},
   "source": [
    "##### <h5> Cálculo do ganho aumentado"
   ]
  },
  {
   "cell_type": "code",
   "execution_count": 75,
   "metadata": {},
   "outputs": [
    {
     "name": "stdout",
     "output_type": "stream",
     "text": [
      "K = [3.4]\n",
      "Ka = 0.10491803278688512\n"
     ]
    }
   ],
   "source": [
    "F = np.array([[-4,  0],\n",
    "              [0,  -0.4]])\n",
    "\n",
    "K_ = np.array([[1, 1]])\n",
    "\n",
    "T = ct.lyap(Aa, -F, -Ba@K_)\n",
    "\n",
    "K_a = K_@np.linalg.inv(T)\n",
    "K = K_a[0][0:n]\n",
    "Ka = -(K_a[0][-1])\n",
    "print(\"K =\", K)\n",
    "print(\"Ka =\", Ka)"
   ]
  },
  {
   "cell_type": "markdown",
   "metadata": {},
   "source": [
    "##### <h5> Teste de Observabilidade"
   ]
  },
  {
   "cell_type": "code",
   "execution_count": 76,
   "metadata": {},
   "outputs": [
    {
     "name": "stdout",
     "output_type": "stream",
     "text": [
      "Rank = 1\n",
      "Como o rank é igual a 'n', o sistema é observável.\n"
     ]
    }
   ],
   "source": [
    "obs = np.linalg.matrix_rank(ct.obsv(A, C))\n",
    "print(\"Rank =\", obs)\n",
    "print(\"Como o rank é igual a 'n', o sistema é observável.\")"
   ]
  },
  {
   "cell_type": "markdown",
   "metadata": {},
   "source": [
    "##### <h5> Criação de estrutura de observabilidade "
   ]
  },
  {
   "cell_type": "code",
   "execution_count": 77,
   "metadata": {},
   "outputs": [],
   "source": [
    "Fo = 10*np.array([[-0.4]])\n",
    "\n",
    "Lo = np.array([[1]])\n",
    "\n",
    "To = ct.lyap(-Fo, A, -Lo@C)"
   ]
  },
  {
   "cell_type": "markdown",
   "metadata": {},
   "source": [
    "##### <h5> Definição da referência de saída e cálculo de Xeq"
   ]
  },
  {
   "cell_type": "code",
   "execution_count": 78,
   "metadata": {},
   "outputs": [
    {
     "data": {
      "text/plain": [
       "array([[ 0.6557377],\n",
       "       [27.5      ]])"
      ]
     },
     "execution_count": 78,
     "metadata": {},
     "output_type": "execute_result"
    }
   ],
   "source": [
    "# Referência\n",
    "r = 10\n",
    "\n",
    "Acl_a = np.block([[A-B@[K], B*Ka],\n",
    "                  [-C,         0]])\n",
    "B_a = np.block([[np.zeros((n, 1))],\n",
    "                [1               ]])\n",
    "\n",
    "# Xeq\n",
    "X_eq = -np.linalg.inv(Acl_a)@B_a*r\n",
    "X_eq"
   ]
  },
  {
   "cell_type": "markdown",
   "metadata": {},
   "source": [
    "##### <h5> Simulação"
   ]
  },
  {
   "cell_type": "code",
   "execution_count": 79,
   "metadata": {},
   "outputs": [],
   "source": [
    "# Tempo\n",
    "t0 = 0\n",
    "tf = 20\n",
    "Ts = 0.001\n",
    "time = np.arange(t0, tf, Ts)\n",
    "amostras = len(time)\n",
    "\n",
    "# Vetor de referência\n",
    "ref = np.ones(amostras)*r\n",
    "\n",
    "# Condição inicial dos estados\n",
    "x = np.array([[0.0]])\n",
    "\n",
    "# Condição inicial do estado do integrador\n",
    "xa = 0.0\n",
    "\n",
    "# Condições iniciais dos estados do observador\n",
    "xo = np.array([[0.001]])\n",
    "\n",
    "# Condição inicial dos estados do observador na outra base\n",
    "z = To@xo\n",
    "\n",
    "# Criação dos vetores\n",
    "x_vec = []\n",
    "xo_vec = []\n",
    "xa_vec = []\n",
    "y_vec = []\n",
    "u_vec = []\n",
    "v_vec = []\n",
    "\n",
    "# Simulação\n",
    "for i in range(len(time)):\n",
    "\n",
    "    # Sinais de controle\n",
    "    v = Ka*xa\n",
    "    u = v - K@xo\n",
    "    # Saída\n",
    "    y = (C@x)[0][0]\n",
    "    # Derivada dos estados do sistema\n",
    "    x_dot = A@x + B*u\n",
    "    # Derivada do estado do integrador\n",
    "    xa_dot = r - y\n",
    "    # Derivada dos estados do observados na outra base\n",
    "    z_dot = Fo@z + To@B*u + Lo*y\n",
    "    # Atualização dos vetores\n",
    "    x_vec.append(x)\n",
    "    xo_vec.append(xo)\n",
    "    xa_vec.append(xa)\n",
    "    y_vec.append(y)\n",
    "    u_vec.append(u)\n",
    "    v_vec.append(v)\n",
    "    # Atualização dos estados do sistema\n",
    "    x = x + x_dot*Ts\n",
    "    # Atualização do estado do integrador\n",
    "    xa = xa + xa_dot*Ts\n",
    "    # Atalização dos estados do observador na outra base\n",
    "    z = z + z_dot*Ts\n",
    "    # Atalização dos estados do observador\n",
    "    xo = np.linalg.inv(To)@z\n",
    "\n",
    "# Separação dos estados do sistema\n",
    "x1_vec = [v[0][0] for v in x_vec]\n",
    "\n",
    "# Separação dos estados observados\n",
    "xo1_vec = [v[0][0] for v in xo_vec]"
   ]
  },
  {
   "cell_type": "markdown",
   "metadata": {},
   "source": [
    "##### <h5> Plot "
   ]
  },
  {
   "cell_type": "code",
   "execution_count": 80,
   "metadata": {},
   "outputs": [
    {
     "data": {
      "image/png": "[encoded data removed]",
      "text/plain": [
       "<Figure size 1000x1100 with 4 Axes>"
      ]
     },
     "metadata": {},
     "output_type": "display_data"
    }
   ],
   "source": [
    "plt.figure(figsize=(10,11))\n",
    "\n",
    "plt.subplot(4, 1, 1)\n",
    "plt.plot(time, x1_vec, label='$x_1$', color='blue')\n",
    "plt.plot(time, xo1_vec, label='$x_{o1}$', color='blue', linestyle='--')\n",
    "plt.plot(time, xa_vec, label='$x_a$', color='c')\n",
    "plt.ylabel('Estados')\n",
    "plt.legend(loc='upper right')\n",
    "plt.grid()\n",
    "\n",
    "plt.subplot(4, 1, 2)\n",
    "plt.plot(time, y_vec, color='m', label='$y$')\n",
    "plt.plot(time, ref, color='black', label='$ref$', linestyle='--')\n",
    "plt.ylabel('Saída')\n",
    "plt.legend(loc='upper right')\n",
    "plt.grid()\n",
    "\n",
    "plt.subplot(4, 1, 3)\n",
    "plt.plot(time, u_vec, color='black', label='$u$')\n",
    "plt.ylabel('u')\n",
    "plt.legend(loc='upper right')\n",
    "plt.grid()\n",
    "\n",
    "plt.subplot(4, 1, 4)\n",
    "plt.plot(time, v_vec, color='gray', label='$v$')\n",
    "plt.xlabel('Tempo')\n",
    "plt.ylabel('v')\n",
    "plt.legend(loc='upper right')\n",
    "plt.grid()"
   ]
  }
 ],
 "metadata": {
  "kernelspec": {
   "display_name": "Python 3",
   "language": "python",
   "name": "python3"
  },
  "language_info": {
   "codemirror_mode": {
    "name": "ipython",
    "version": 3
   },
   "file_extension": ".py",
   "mimetype": "text/x-python",
   "name": "python",
   "nbconvert_exporter": "python",
   "pygments_lexer": "ipython3",
   "version": "3.10.11"
  }
 },
 "nbformat": 4,
 "nbformat_minor": 2
}
